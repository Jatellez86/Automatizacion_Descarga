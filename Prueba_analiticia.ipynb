{
  "nbformat": 4,
  "nbformat_minor": 0,
  "metadata": {
    "colab": {
      "provenance": [],
      "authorship_tag": "ABX9TyPJytJnfI8M8AzJ6ZDfoaiE",
      "include_colab_link": true
    },
    "kernelspec": {
      "name": "python3",
      "display_name": "Python 3"
    },
    "language_info": {
      "name": "python"
    }
  },
  "cells": [
    {
      "cell_type": "markdown",
      "metadata": {
        "id": "view-in-github",
        "colab_type": "text"
      },
      "source": [
        "<a href=\"https://colab.research.google.com/github/Jatellez86/Automatizacion_Descarga/blob/main/Prueba_analiticia.ipynb\" target=\"_parent\"><img src=\"https://colab.research.google.com/assets/colab-badge.svg\" alt=\"Open In Colab\"/></a>"
      ]
    },
    {
      "cell_type": "markdown",
      "source": [
        "# **ALGORITMO PARA EL ANALISISI COMPORTAMIENTO DE VALIDACION DE PASAJEROS EMPRESA CONSORCIO EXPRESS**\n",
        "\n",
        "Montamos nuestro drive en nuestro entorno de google colab, para hacer el montaje importamos el metodo 'mount' y hacemos la conexion, aqui es importante otorgar permisos necesarios y tener nuestra carpeta compartida en nuestra unidad!"
      ],
      "metadata": {
        "id": "DsFNMreaUft-"
      }
    },
    {
      "cell_type": "code",
      "execution_count": 2,
      "metadata": {
        "colab": {
          "base_uri": "https://localhost:8080/"
        },
        "id": "2Q5wH-3eyEJf",
        "outputId": "c8933d92-3215-4cd0-f8ac-956a0dba8309"
      },
      "outputs": [
        {
          "output_type": "stream",
          "name": "stdout",
          "text": [
            "Mounted at /content/drive\n"
          ]
        }
      ],
      "source": [
        "# importamos el modulo correspondiente\n",
        "from google.colab import drive\n",
        "drive.mount('/content/drive')"
      ]
    },
    {
      "cell_type": "markdown",
      "source": [
        "Creamos un algortimo que nos permita conectar a la carpeta, listar los arhivos disponibles y combinar todos los datos en un solo dataframe, de igual manera crear la logica para que nos notifique las acciones de cada linea"
      ],
      "metadata": {
        "id": "Y5hM_BgnWIJa"
      }
    },
    {
      "cell_type": "code",
      "source": [
        "import os\n",
        "import pandas as pd\n",
        "\n",
        "# Ruta de la carpeta en Google Drive\n",
        "folder_path = '/content/drive/MyDrive/Desglosado'\n",
        "\n",
        "# Lista para almacenar los DataFrames\n",
        "dfs = []\n",
        "\n",
        "# Listar todos los archivos en la carpeta\n",
        "for file_name in os.listdir(folder_path):\n",
        "    # Construir la ruta completa del archivo\n",
        "    file_path = os.path.join(folder_path, file_name)\n",
        "\n",
        "    # Verificar si el archivo es un .csv\n",
        "    if file_name.endswith('.csv'):\n",
        "        # Leer el archivo CSV y añadirlo a la lista de DataFrames\n",
        "        df = pd.read_csv(file_path)\n",
        "        dfs.append(df)\n",
        "        #print(f'Archivo {file_name} leído con éxito.')\n",
        "\n",
        "# combinar todos los DataFrames en uno solo\n",
        "if dfs:\n",
        "    combined_df = pd.concat(dfs, ignore_index=True)\n",
        "    #print('Todos los archivos CSV han sido combinados en un solo DataFrame.')\n"
      ],
      "metadata": {
        "id": "yhV_XQadOhhf"
      },
      "execution_count": 23,
      "outputs": []
    },
    {
      "cell_type": "markdown",
      "source": [
        "Identificamos los viajes que se ejecutados, con lo cual descargamos los viajes que no tuvieron kilometraje realizado (diferente de cero)"
      ],
      "metadata": {
        "id": "Nzan5pbXTs2f"
      }
    },
    {
      "cell_type": "code",
      "source": [
        "# descartamos viajes con km en 0\n",
        "df_filtrado = combined_df[combined_df['DistanciaComputable'] != '0,000']\n"
      ],
      "metadata": {
        "id": "jelxnif2YTj9"
      },
      "execution_count": 4,
      "outputs": []
    },
    {
      "cell_type": "markdown",
      "source": [
        "Seleccionamos las columnas necesarias para el analisis y agrupamos los viaje teniedo en cuenta, Fecha, Linea, coche y viaje linea como llave principal"
      ],
      "metadata": {
        "id": "65_XY2_J8FT0"
      }
    },
    {
      "cell_type": "code",
      "source": [
        "# ajustamos datos categoricos de concesionario (empresa)\n",
        "\n",
        "# Crear un diccionario con los reemplazos\n",
        "reemplazos_operador = {\n",
        "    '[111] D': 'san_cristobal',\n",
        "    '[101] N': 'usaquen'\n",
        "}\n",
        "\n",
        "# Crear una nueva columna reemplazando los valores según el diccionario\n",
        "df_filtrado['empresa'] = df_filtrado['Operador'].replace(reemplazos_operador)\n",
        "\n",
        "# Seleccionar las columnas especificadas\n",
        "final_df = df_filtrado[['Fecha', 'empresa', 'IDViaje', 'Linea', 'Coche', 'ViajeLinea', 'Ruta']]\n",
        "\n",
        "# Convertir los nombres de las columnas a minúsculas para un manejo mas limpio\n",
        "final_df.columns = final_df.columns.str.lower()\n",
        "\n",
        "# Definir las columnas para agrupar\n",
        "group_columns = ['fecha', 'empresa', 'linea', 'ruta', 'coche', 'viajelinea', 'idviaje']\n",
        "\n",
        "# Crear una nueva columna con el conteo de cada fila en la agrupación\n",
        "final_df['conteo'] = final_df.groupby(group_columns)['fecha'].transform('count')\n",
        "\n",
        "grouped_df = final_df.groupby(group_columns).size().reset_index(name='conteo')\n",
        "# print(grouped_df.head())\n"
      ],
      "metadata": {
        "colab": {
          "base_uri": "https://localhost:8080/"
        },
        "id": "NJJfoj1QZ6g2",
        "outputId": "a684f080-8b86-4430-eab1-d143d7daa8f5"
      },
      "execution_count": 24,
      "outputs": [
        {
          "output_type": "stream",
          "name": "stderr",
          "text": [
            "<ipython-input-24-ed840aed431e>:22: SettingWithCopyWarning: \n",
            "A value is trying to be set on a copy of a slice from a DataFrame.\n",
            "Try using .loc[row_indexer,col_indexer] = value instead\n",
            "\n",
            "See the caveats in the documentation: https://pandas.pydata.org/pandas-docs/stable/user_guide/indexing.html#returning-a-view-versus-a-copy\n",
            "  final_df['conteo'] = final_df.groupby(group_columns)['fecha'].transform('count')\n"
          ]
        }
      ]
    },
    {
      "cell_type": "markdown",
      "source": [
        "Exportamos el archivo a una ruta especifica en el directorio de google drive"
      ],
      "metadata": {
        "id": "OkjGu74r8YcB"
      }
    },
    {
      "cell_type": "code",
      "source": [
        "# exportamos archivo\n",
        "# Ruta de la carpeta en tu Google Drive para guardar el DataFrame\n",
        "folder_path = '/content/drive/MyDrive/out_desglosado'\n",
        "\n",
        "# Nombre del archivo CSV\n",
        "file_name = 'df_final.csv'\n",
        "\n",
        "# Ruta completa del archivo\n",
        "file_path = f'{folder_path}/{file_name}'\n",
        "\n",
        "# Guardar el DataFrame como un archivo CSV en Google Drive\n",
        "grouped_df.to_csv(file_path, index=False)\n",
        "\n",
        "print(f'DataFrame guardado con éxito en {file_path}')\n"
      ],
      "metadata": {
        "colab": {
          "base_uri": "https://localhost:8080/"
        },
        "id": "eWuX9F5ScPQh",
        "outputId": "5f159d11-3a11-4916-ed00-6e9a20b61d22"
      },
      "execution_count": 6,
      "outputs": [
        {
          "output_type": "stream",
          "name": "stdout",
          "text": [
            "DataFrame guardado con éxito en /content/drive/MyDrive/out_desglosado/df_final.csv\n"
          ]
        }
      ]
    },
    {
      "cell_type": "markdown",
      "source": [
        "Cargamos datos de pasajeros para los meses de Julio y Agosto, los cuales estan almacenados en un directorio especifico de google drive"
      ],
      "metadata": {
        "id": "SBXNIXQG8iJ4"
      }
    },
    {
      "cell_type": "code",
      "source": [
        "# Montar Google Drive\n",
        "drive.mount('/content/drive')\n",
        "\n",
        "# Ruta a la carpeta 'pasajeros' en Google Drive\n",
        "folder_path = '/content/drive/MyDrive/pasajeros'\n",
        "\n",
        "# Ruta completa a cada archivo .xlsx\n",
        "file_path_julio = os.path.join(folder_path, 'validaciones_julio.xlsx')\n",
        "file_path_agosto = os.path.join(folder_path, 'validaciones_agosto.xlsx')\n",
        "\n",
        "# Nombre de la hoja a leer\n",
        "sheet_name = 'Resumen Operador Ruta Intervalo'\n",
        "\n",
        "# Leer la hoja especificada de cada archivo, saltando las primeras 6 filas y asignarla a una variable\n",
        "pasajeros_julio = pd.read_excel(file_path_julio, sheet_name=sheet_name, skiprows=6, engine='openpyxl')\n",
        "pasajeros_agosto = pd.read_excel(file_path_agosto, sheet_name=sheet_name, skiprows=6, engine='openpyxl')\n",
        "\n",
        "# Eliminar la primera columna de cada DataFrame\n",
        "pasajeros_julio = pasajeros_julio.drop(pasajeros_julio.columns[0], axis=1)\n",
        "pasajeros_agosto = pasajeros_agosto.drop(pasajeros_agosto.columns[0], axis=1)\n",
        "\n",
        "# Verificar los DataFrames\n",
        "# print(pasajeros_julio.head())\n",
        "# print(pasajeros_agosto.head())\n"
      ],
      "metadata": {
        "colab": {
          "base_uri": "https://localhost:8080/"
        },
        "id": "H1hmOGSqnZO_",
        "outputId": "4707a223-47be-40c7-9aa3-563608c9f6ad"
      },
      "execution_count": 25,
      "outputs": [
        {
          "output_type": "stream",
          "name": "stdout",
          "text": [
            "Drive already mounted at /content/drive; to attempt to forcibly remount, call drive.mount(\"/content/drive\", force_remount=True).\n"
          ]
        }
      ]
    },
    {
      "cell_type": "markdown",
      "source": [
        "Pivoteamos los datos para tener datos unicos por filas y fechas para un mejor tratamiento de datos"
      ],
      "metadata": {
        "id": "xBvsp7hH8zDq"
      }
    },
    {
      "cell_type": "code",
      "source": [
        "# filtramos los datos para el concesionaro o empresa que se requiere el analisis\n",
        "pasajeros_julio_b = pasajeros_julio[pasajeros_julio['Operador'] == '(001) CONSORCIO EXPRESS']\n",
        "\n",
        "# Pivote fecha\n",
        "df_melted = pd.melt(pasajeros_julio_b,\n",
        "                    id_vars=[\"Operador\", \"Ruta Consolidada\", \"Intervalo\"],\n",
        "                    value_vars=pasajeros_julio.columns[3:-1],  # Excluyendo la columna 'Total general'\n",
        "                    var_name=\"Fecha\",\n",
        "                    value_name=\"Validaciones\")\n",
        "\n",
        "# Convertir la columna de fecha a un formato datetime\n",
        "df_melted[\"Fecha\"] = pd.to_datetime(df_melted[\"Fecha\"])\n",
        "\n",
        "df_melted.head()\n"
      ],
      "metadata": {
        "colab": {
          "base_uri": "https://localhost:8080/",
          "height": 206
        },
        "id": "oGoTAhWwoP5m",
        "outputId": "9acdc73f-8399-4106-c049-fcd70ffe97f4"
      },
      "execution_count": 8,
      "outputs": [
        {
          "output_type": "execute_result",
          "data": {
            "text/plain": [
              "                  Operador Ruta Consolidada Intervalo      Fecha  Validaciones\n",
              "0  (001) CONSORCIO EXPRESS       (1064) T13  13:00:00 2023-07-01         178.0\n",
              "1  (001) CONSORCIO EXPRESS       (1064) T13  13:15:00 2023-07-01         166.0\n",
              "2  (001) CONSORCIO EXPRESS       (1064) T13  13:30:00 2023-07-01         162.0\n",
              "3  (001) CONSORCIO EXPRESS       (1064) T13  13:45:00 2023-07-01         154.0\n",
              "4  (001) CONSORCIO EXPRESS       (1064) T13  10:00:00 2023-07-01         162.0"
            ],
            "text/html": [
              "\n",
              "  <div id=\"df-f442e00c-1728-4c11-a693-a29236d13cbb\" class=\"colab-df-container\">\n",
              "    <div>\n",
              "<style scoped>\n",
              "    .dataframe tbody tr th:only-of-type {\n",
              "        vertical-align: middle;\n",
              "    }\n",
              "\n",
              "    .dataframe tbody tr th {\n",
              "        vertical-align: top;\n",
              "    }\n",
              "\n",
              "    .dataframe thead th {\n",
              "        text-align: right;\n",
              "    }\n",
              "</style>\n",
              "<table border=\"1\" class=\"dataframe\">\n",
              "  <thead>\n",
              "    <tr style=\"text-align: right;\">\n",
              "      <th></th>\n",
              "      <th>Operador</th>\n",
              "      <th>Ruta Consolidada</th>\n",
              "      <th>Intervalo</th>\n",
              "      <th>Fecha</th>\n",
              "      <th>Validaciones</th>\n",
              "    </tr>\n",
              "  </thead>\n",
              "  <tbody>\n",
              "    <tr>\n",
              "      <th>0</th>\n",
              "      <td>(001) CONSORCIO EXPRESS</td>\n",
              "      <td>(1064) T13</td>\n",
              "      <td>13:00:00</td>\n",
              "      <td>2023-07-01</td>\n",
              "      <td>178.0</td>\n",
              "    </tr>\n",
              "    <tr>\n",
              "      <th>1</th>\n",
              "      <td>(001) CONSORCIO EXPRESS</td>\n",
              "      <td>(1064) T13</td>\n",
              "      <td>13:15:00</td>\n",
              "      <td>2023-07-01</td>\n",
              "      <td>166.0</td>\n",
              "    </tr>\n",
              "    <tr>\n",
              "      <th>2</th>\n",
              "      <td>(001) CONSORCIO EXPRESS</td>\n",
              "      <td>(1064) T13</td>\n",
              "      <td>13:30:00</td>\n",
              "      <td>2023-07-01</td>\n",
              "      <td>162.0</td>\n",
              "    </tr>\n",
              "    <tr>\n",
              "      <th>3</th>\n",
              "      <td>(001) CONSORCIO EXPRESS</td>\n",
              "      <td>(1064) T13</td>\n",
              "      <td>13:45:00</td>\n",
              "      <td>2023-07-01</td>\n",
              "      <td>154.0</td>\n",
              "    </tr>\n",
              "    <tr>\n",
              "      <th>4</th>\n",
              "      <td>(001) CONSORCIO EXPRESS</td>\n",
              "      <td>(1064) T13</td>\n",
              "      <td>10:00:00</td>\n",
              "      <td>2023-07-01</td>\n",
              "      <td>162.0</td>\n",
              "    </tr>\n",
              "  </tbody>\n",
              "</table>\n",
              "</div>\n",
              "    <div class=\"colab-df-buttons\">\n",
              "\n",
              "  <div class=\"colab-df-container\">\n",
              "    <button class=\"colab-df-convert\" onclick=\"convertToInteractive('df-f442e00c-1728-4c11-a693-a29236d13cbb')\"\n",
              "            title=\"Convert this dataframe to an interactive table.\"\n",
              "            style=\"display:none;\">\n",
              "\n",
              "  <svg xmlns=\"http://www.w3.org/2000/svg\" height=\"24px\" viewBox=\"0 -960 960 960\">\n",
              "    <path d=\"M120-120v-720h720v720H120Zm60-500h600v-160H180v160Zm220 220h160v-160H400v160Zm0 220h160v-160H400v160ZM180-400h160v-160H180v160Zm440 0h160v-160H620v160ZM180-180h160v-160H180v160Zm440 0h160v-160H620v160Z\"/>\n",
              "  </svg>\n",
              "    </button>\n",
              "\n",
              "  <style>\n",
              "    .colab-df-container {\n",
              "      display:flex;\n",
              "      gap: 12px;\n",
              "    }\n",
              "\n",
              "    .colab-df-convert {\n",
              "      background-color: #E8F0FE;\n",
              "      border: none;\n",
              "      border-radius: 50%;\n",
              "      cursor: pointer;\n",
              "      display: none;\n",
              "      fill: #1967D2;\n",
              "      height: 32px;\n",
              "      padding: 0 0 0 0;\n",
              "      width: 32px;\n",
              "    }\n",
              "\n",
              "    .colab-df-convert:hover {\n",
              "      background-color: #E2EBFA;\n",
              "      box-shadow: 0px 1px 2px rgba(60, 64, 67, 0.3), 0px 1px 3px 1px rgba(60, 64, 67, 0.15);\n",
              "      fill: #174EA6;\n",
              "    }\n",
              "\n",
              "    .colab-df-buttons div {\n",
              "      margin-bottom: 4px;\n",
              "    }\n",
              "\n",
              "    [theme=dark] .colab-df-convert {\n",
              "      background-color: #3B4455;\n",
              "      fill: #D2E3FC;\n",
              "    }\n",
              "\n",
              "    [theme=dark] .colab-df-convert:hover {\n",
              "      background-color: #434B5C;\n",
              "      box-shadow: 0px 1px 3px 1px rgba(0, 0, 0, 0.15);\n",
              "      filter: drop-shadow(0px 1px 2px rgba(0, 0, 0, 0.3));\n",
              "      fill: #FFFFFF;\n",
              "    }\n",
              "  </style>\n",
              "\n",
              "    <script>\n",
              "      const buttonEl =\n",
              "        document.querySelector('#df-f442e00c-1728-4c11-a693-a29236d13cbb button.colab-df-convert');\n",
              "      buttonEl.style.display =\n",
              "        google.colab.kernel.accessAllowed ? 'block' : 'none';\n",
              "\n",
              "      async function convertToInteractive(key) {\n",
              "        const element = document.querySelector('#df-f442e00c-1728-4c11-a693-a29236d13cbb');\n",
              "        const dataTable =\n",
              "          await google.colab.kernel.invokeFunction('convertToInteractive',\n",
              "                                                    [key], {});\n",
              "        if (!dataTable) return;\n",
              "\n",
              "        const docLinkHtml = 'Like what you see? Visit the ' +\n",
              "          '<a target=\"_blank\" href=https://colab.research.google.com/notebooks/data_table.ipynb>data table notebook</a>'\n",
              "          + ' to learn more about interactive tables.';\n",
              "        element.innerHTML = '';\n",
              "        dataTable['output_type'] = 'display_data';\n",
              "        await google.colab.output.renderOutput(dataTable, element);\n",
              "        const docLink = document.createElement('div');\n",
              "        docLink.innerHTML = docLinkHtml;\n",
              "        element.appendChild(docLink);\n",
              "      }\n",
              "    </script>\n",
              "  </div>\n",
              "\n",
              "\n",
              "<div id=\"df-df637383-957b-4931-9eb4-04f6c4933ee2\">\n",
              "  <button class=\"colab-df-quickchart\" onclick=\"quickchart('df-df637383-957b-4931-9eb4-04f6c4933ee2')\"\n",
              "            title=\"Suggest charts.\"\n",
              "            style=\"display:none;\">\n",
              "\n",
              "<svg xmlns=\"http://www.w3.org/2000/svg\" height=\"24px\"viewBox=\"0 0 24 24\"\n",
              "     width=\"24px\">\n",
              "    <g>\n",
              "        <path d=\"M19 3H5c-1.1 0-2 .9-2 2v14c0 1.1.9 2 2 2h14c1.1 0 2-.9 2-2V5c0-1.1-.9-2-2-2zM9 17H7v-7h2v7zm4 0h-2V7h2v10zm4 0h-2v-4h2v4z\"/>\n",
              "    </g>\n",
              "</svg>\n",
              "  </button>\n",
              "\n",
              "<style>\n",
              "  .colab-df-quickchart {\n",
              "      --bg-color: #E8F0FE;\n",
              "      --fill-color: #1967D2;\n",
              "      --hover-bg-color: #E2EBFA;\n",
              "      --hover-fill-color: #174EA6;\n",
              "      --disabled-fill-color: #AAA;\n",
              "      --disabled-bg-color: #DDD;\n",
              "  }\n",
              "\n",
              "  [theme=dark] .colab-df-quickchart {\n",
              "      --bg-color: #3B4455;\n",
              "      --fill-color: #D2E3FC;\n",
              "      --hover-bg-color: #434B5C;\n",
              "      --hover-fill-color: #FFFFFF;\n",
              "      --disabled-bg-color: #3B4455;\n",
              "      --disabled-fill-color: #666;\n",
              "  }\n",
              "\n",
              "  .colab-df-quickchart {\n",
              "    background-color: var(--bg-color);\n",
              "    border: none;\n",
              "    border-radius: 50%;\n",
              "    cursor: pointer;\n",
              "    display: none;\n",
              "    fill: var(--fill-color);\n",
              "    height: 32px;\n",
              "    padding: 0;\n",
              "    width: 32px;\n",
              "  }\n",
              "\n",
              "  .colab-df-quickchart:hover {\n",
              "    background-color: var(--hover-bg-color);\n",
              "    box-shadow: 0 1px 2px rgba(60, 64, 67, 0.3), 0 1px 3px 1px rgba(60, 64, 67, 0.15);\n",
              "    fill: var(--button-hover-fill-color);\n",
              "  }\n",
              "\n",
              "  .colab-df-quickchart-complete:disabled,\n",
              "  .colab-df-quickchart-complete:disabled:hover {\n",
              "    background-color: var(--disabled-bg-color);\n",
              "    fill: var(--disabled-fill-color);\n",
              "    box-shadow: none;\n",
              "  }\n",
              "\n",
              "  .colab-df-spinner {\n",
              "    border: 2px solid var(--fill-color);\n",
              "    border-color: transparent;\n",
              "    border-bottom-color: var(--fill-color);\n",
              "    animation:\n",
              "      spin 1s steps(1) infinite;\n",
              "  }\n",
              "\n",
              "  @keyframes spin {\n",
              "    0% {\n",
              "      border-color: transparent;\n",
              "      border-bottom-color: var(--fill-color);\n",
              "      border-left-color: var(--fill-color);\n",
              "    }\n",
              "    20% {\n",
              "      border-color: transparent;\n",
              "      border-left-color: var(--fill-color);\n",
              "      border-top-color: var(--fill-color);\n",
              "    }\n",
              "    30% {\n",
              "      border-color: transparent;\n",
              "      border-left-color: var(--fill-color);\n",
              "      border-top-color: var(--fill-color);\n",
              "      border-right-color: var(--fill-color);\n",
              "    }\n",
              "    40% {\n",
              "      border-color: transparent;\n",
              "      border-right-color: var(--fill-color);\n",
              "      border-top-color: var(--fill-color);\n",
              "    }\n",
              "    60% {\n",
              "      border-color: transparent;\n",
              "      border-right-color: var(--fill-color);\n",
              "    }\n",
              "    80% {\n",
              "      border-color: transparent;\n",
              "      border-right-color: var(--fill-color);\n",
              "      border-bottom-color: var(--fill-color);\n",
              "    }\n",
              "    90% {\n",
              "      border-color: transparent;\n",
              "      border-bottom-color: var(--fill-color);\n",
              "    }\n",
              "  }\n",
              "</style>\n",
              "\n",
              "  <script>\n",
              "    async function quickchart(key) {\n",
              "      const quickchartButtonEl =\n",
              "        document.querySelector('#' + key + ' button');\n",
              "      quickchartButtonEl.disabled = true;  // To prevent multiple clicks.\n",
              "      quickchartButtonEl.classList.add('colab-df-spinner');\n",
              "      try {\n",
              "        const charts = await google.colab.kernel.invokeFunction(\n",
              "            'suggestCharts', [key], {});\n",
              "      } catch (error) {\n",
              "        console.error('Error during call to suggestCharts:', error);\n",
              "      }\n",
              "      quickchartButtonEl.classList.remove('colab-df-spinner');\n",
              "      quickchartButtonEl.classList.add('colab-df-quickchart-complete');\n",
              "    }\n",
              "    (() => {\n",
              "      let quickchartButtonEl =\n",
              "        document.querySelector('#df-df637383-957b-4931-9eb4-04f6c4933ee2 button');\n",
              "      quickchartButtonEl.style.display =\n",
              "        google.colab.kernel.accessAllowed ? 'block' : 'none';\n",
              "    })();\n",
              "  </script>\n",
              "</div>\n",
              "    </div>\n",
              "  </div>\n"
            ]
          },
          "metadata": {},
          "execution_count": 8
        }
      ]
    },
    {
      "cell_type": "markdown",
      "source": [
        "Trasnformamos los datos para poder agrupar por franja horaria, y se identifican datos atipicos para la ruta C142 los cuales aparecen solo para dos dias del periodo de tiempo, los mismos se excluyen para no tener sesgos en la prediccion"
      ],
      "metadata": {
        "id": "iBOJUEKv87rQ"
      }
    },
    {
      "cell_type": "code",
      "source": [
        "# Convertir la columna \"Intervalo\" a tipo string\n",
        "df_melted['Intervalo'] = df_melted['Intervalo'].astype(str)\n",
        "\n",
        "# Extraer la hora y almacenarla en una nueva columna llamada \"Hora\"\n",
        "df_melted['Hora'] = df_melted['Intervalo'].str.split(\":\").str[0].astype(int)\n",
        "\n",
        "# Agrupar por las columnas especificadas y sumar la columna \"Validaciones\"\n",
        "df_grouped = df_melted.groupby(['Fecha', 'Operador', 'Ruta Consolidada', 'Hora'])['Validaciones'].sum().reset_index()\n",
        "\n",
        "# Reemplazar paréntesis en la columna \"Ruta Consolidada\" para hacer match con datos de viajes desglosados\n",
        "df_grouped['Ruta Consolidada'] = df_grouped['Ruta Consolidada'].str.replace(\"(\", \"[\").str.replace(\")\", \"]\")\n",
        "\n",
        "# Eliminar la cadena \"_CEGM\" en la columna \"Ruta Consolidada\" para hacer match con datos de viaje desglosado\n",
        "df_grouped['Ruta Consolidada'] = df_grouped['Ruta Consolidada'].str.replace(\"_CEGM\", \"\")\n",
        "\n",
        "# Los datos de la ruta '[1315] C142' son atipicos asi que se excluyen\n",
        "df_grouped = df_grouped[df_grouped['Ruta Consolidada'] != '[1315] C142']\n",
        "\n",
        "\n",
        "df_grouped.head()\n"
      ],
      "metadata": {
        "colab": {
          "base_uri": "https://localhost:8080/",
          "height": 263
        },
        "id": "z5E6tCexyv5G",
        "outputId": "915fd5eb-37d5-4019-ef5d-5b7b1b37d7f4"
      },
      "execution_count": 9,
      "outputs": [
        {
          "output_type": "stream",
          "name": "stderr",
          "text": [
            "<ipython-input-9-e6ac6b87afc3>:11: FutureWarning: The default value of regex will change from True to False in a future version. In addition, single character regular expressions will *not* be treated as literal strings when regex=True.\n",
            "  df_grouped['Ruta Consolidada'] = df_grouped['Ruta Consolidada'].str.replace(\"(\", \"[\").str.replace(\")\", \"]\")\n"
          ]
        },
        {
          "output_type": "execute_result",
          "data": {
            "text/plain": [
              "       Fecha                 Operador Ruta Consolidada  Hora  Validaciones\n",
              "0 2023-07-01  (001) CONSORCIO EXPRESS       [1064] T13     0          16.0\n",
              "1 2023-07-01  (001) CONSORCIO EXPRESS       [1064] T13     3           3.0\n",
              "2 2023-07-01  (001) CONSORCIO EXPRESS       [1064] T13     4         288.0\n",
              "3 2023-07-01  (001) CONSORCIO EXPRESS       [1064] T13     5         631.0\n",
              "4 2023-07-01  (001) CONSORCIO EXPRESS       [1064] T13     6         747.0"
            ],
            "text/html": [
              "\n",
              "  <div id=\"df-963b3525-7be8-4dd5-9aa0-831ff2a517c1\" class=\"colab-df-container\">\n",
              "    <div>\n",
              "<style scoped>\n",
              "    .dataframe tbody tr th:only-of-type {\n",
              "        vertical-align: middle;\n",
              "    }\n",
              "\n",
              "    .dataframe tbody tr th {\n",
              "        vertical-align: top;\n",
              "    }\n",
              "\n",
              "    .dataframe thead th {\n",
              "        text-align: right;\n",
              "    }\n",
              "</style>\n",
              "<table border=\"1\" class=\"dataframe\">\n",
              "  <thead>\n",
              "    <tr style=\"text-align: right;\">\n",
              "      <th></th>\n",
              "      <th>Fecha</th>\n",
              "      <th>Operador</th>\n",
              "      <th>Ruta Consolidada</th>\n",
              "      <th>Hora</th>\n",
              "      <th>Validaciones</th>\n",
              "    </tr>\n",
              "  </thead>\n",
              "  <tbody>\n",
              "    <tr>\n",
              "      <th>0</th>\n",
              "      <td>2023-07-01</td>\n",
              "      <td>(001) CONSORCIO EXPRESS</td>\n",
              "      <td>[1064] T13</td>\n",
              "      <td>0</td>\n",
              "      <td>16.0</td>\n",
              "    </tr>\n",
              "    <tr>\n",
              "      <th>1</th>\n",
              "      <td>2023-07-01</td>\n",
              "      <td>(001) CONSORCIO EXPRESS</td>\n",
              "      <td>[1064] T13</td>\n",
              "      <td>3</td>\n",
              "      <td>3.0</td>\n",
              "    </tr>\n",
              "    <tr>\n",
              "      <th>2</th>\n",
              "      <td>2023-07-01</td>\n",
              "      <td>(001) CONSORCIO EXPRESS</td>\n",
              "      <td>[1064] T13</td>\n",
              "      <td>4</td>\n",
              "      <td>288.0</td>\n",
              "    </tr>\n",
              "    <tr>\n",
              "      <th>3</th>\n",
              "      <td>2023-07-01</td>\n",
              "      <td>(001) CONSORCIO EXPRESS</td>\n",
              "      <td>[1064] T13</td>\n",
              "      <td>5</td>\n",
              "      <td>631.0</td>\n",
              "    </tr>\n",
              "    <tr>\n",
              "      <th>4</th>\n",
              "      <td>2023-07-01</td>\n",
              "      <td>(001) CONSORCIO EXPRESS</td>\n",
              "      <td>[1064] T13</td>\n",
              "      <td>6</td>\n",
              "      <td>747.0</td>\n",
              "    </tr>\n",
              "  </tbody>\n",
              "</table>\n",
              "</div>\n",
              "    <div class=\"colab-df-buttons\">\n",
              "\n",
              "  <div class=\"colab-df-container\">\n",
              "    <button class=\"colab-df-convert\" onclick=\"convertToInteractive('df-963b3525-7be8-4dd5-9aa0-831ff2a517c1')\"\n",
              "            title=\"Convert this dataframe to an interactive table.\"\n",
              "            style=\"display:none;\">\n",
              "\n",
              "  <svg xmlns=\"http://www.w3.org/2000/svg\" height=\"24px\" viewBox=\"0 -960 960 960\">\n",
              "    <path d=\"M120-120v-720h720v720H120Zm60-500h600v-160H180v160Zm220 220h160v-160H400v160Zm0 220h160v-160H400v160ZM180-400h160v-160H180v160Zm440 0h160v-160H620v160ZM180-180h160v-160H180v160Zm440 0h160v-160H620v160Z\"/>\n",
              "  </svg>\n",
              "    </button>\n",
              "\n",
              "  <style>\n",
              "    .colab-df-container {\n",
              "      display:flex;\n",
              "      gap: 12px;\n",
              "    }\n",
              "\n",
              "    .colab-df-convert {\n",
              "      background-color: #E8F0FE;\n",
              "      border: none;\n",
              "      border-radius: 50%;\n",
              "      cursor: pointer;\n",
              "      display: none;\n",
              "      fill: #1967D2;\n",
              "      height: 32px;\n",
              "      padding: 0 0 0 0;\n",
              "      width: 32px;\n",
              "    }\n",
              "\n",
              "    .colab-df-convert:hover {\n",
              "      background-color: #E2EBFA;\n",
              "      box-shadow: 0px 1px 2px rgba(60, 64, 67, 0.3), 0px 1px 3px 1px rgba(60, 64, 67, 0.15);\n",
              "      fill: #174EA6;\n",
              "    }\n",
              "\n",
              "    .colab-df-buttons div {\n",
              "      margin-bottom: 4px;\n",
              "    }\n",
              "\n",
              "    [theme=dark] .colab-df-convert {\n",
              "      background-color: #3B4455;\n",
              "      fill: #D2E3FC;\n",
              "    }\n",
              "\n",
              "    [theme=dark] .colab-df-convert:hover {\n",
              "      background-color: #434B5C;\n",
              "      box-shadow: 0px 1px 3px 1px rgba(0, 0, 0, 0.15);\n",
              "      filter: drop-shadow(0px 1px 2px rgba(0, 0, 0, 0.3));\n",
              "      fill: #FFFFFF;\n",
              "    }\n",
              "  </style>\n",
              "\n",
              "    <script>\n",
              "      const buttonEl =\n",
              "        document.querySelector('#df-963b3525-7be8-4dd5-9aa0-831ff2a517c1 button.colab-df-convert');\n",
              "      buttonEl.style.display =\n",
              "        google.colab.kernel.accessAllowed ? 'block' : 'none';\n",
              "\n",
              "      async function convertToInteractive(key) {\n",
              "        const element = document.querySelector('#df-963b3525-7be8-4dd5-9aa0-831ff2a517c1');\n",
              "        const dataTable =\n",
              "          await google.colab.kernel.invokeFunction('convertToInteractive',\n",
              "                                                    [key], {});\n",
              "        if (!dataTable) return;\n",
              "\n",
              "        const docLinkHtml = 'Like what you see? Visit the ' +\n",
              "          '<a target=\"_blank\" href=https://colab.research.google.com/notebooks/data_table.ipynb>data table notebook</a>'\n",
              "          + ' to learn more about interactive tables.';\n",
              "        element.innerHTML = '';\n",
              "        dataTable['output_type'] = 'display_data';\n",
              "        await google.colab.output.renderOutput(dataTable, element);\n",
              "        const docLink = document.createElement('div');\n",
              "        docLink.innerHTML = docLinkHtml;\n",
              "        element.appendChild(docLink);\n",
              "      }\n",
              "    </script>\n",
              "  </div>\n",
              "\n",
              "\n",
              "<div id=\"df-a05088e1-60be-4369-80a3-f8efe86b80f3\">\n",
              "  <button class=\"colab-df-quickchart\" onclick=\"quickchart('df-a05088e1-60be-4369-80a3-f8efe86b80f3')\"\n",
              "            title=\"Suggest charts.\"\n",
              "            style=\"display:none;\">\n",
              "\n",
              "<svg xmlns=\"http://www.w3.org/2000/svg\" height=\"24px\"viewBox=\"0 0 24 24\"\n",
              "     width=\"24px\">\n",
              "    <g>\n",
              "        <path d=\"M19 3H5c-1.1 0-2 .9-2 2v14c0 1.1.9 2 2 2h14c1.1 0 2-.9 2-2V5c0-1.1-.9-2-2-2zM9 17H7v-7h2v7zm4 0h-2V7h2v10zm4 0h-2v-4h2v4z\"/>\n",
              "    </g>\n",
              "</svg>\n",
              "  </button>\n",
              "\n",
              "<style>\n",
              "  .colab-df-quickchart {\n",
              "      --bg-color: #E8F0FE;\n",
              "      --fill-color: #1967D2;\n",
              "      --hover-bg-color: #E2EBFA;\n",
              "      --hover-fill-color: #174EA6;\n",
              "      --disabled-fill-color: #AAA;\n",
              "      --disabled-bg-color: #DDD;\n",
              "  }\n",
              "\n",
              "  [theme=dark] .colab-df-quickchart {\n",
              "      --bg-color: #3B4455;\n",
              "      --fill-color: #D2E3FC;\n",
              "      --hover-bg-color: #434B5C;\n",
              "      --hover-fill-color: #FFFFFF;\n",
              "      --disabled-bg-color: #3B4455;\n",
              "      --disabled-fill-color: #666;\n",
              "  }\n",
              "\n",
              "  .colab-df-quickchart {\n",
              "    background-color: var(--bg-color);\n",
              "    border: none;\n",
              "    border-radius: 50%;\n",
              "    cursor: pointer;\n",
              "    display: none;\n",
              "    fill: var(--fill-color);\n",
              "    height: 32px;\n",
              "    padding: 0;\n",
              "    width: 32px;\n",
              "  }\n",
              "\n",
              "  .colab-df-quickchart:hover {\n",
              "    background-color: var(--hover-bg-color);\n",
              "    box-shadow: 0 1px 2px rgba(60, 64, 67, 0.3), 0 1px 3px 1px rgba(60, 64, 67, 0.15);\n",
              "    fill: var(--button-hover-fill-color);\n",
              "  }\n",
              "\n",
              "  .colab-df-quickchart-complete:disabled,\n",
              "  .colab-df-quickchart-complete:disabled:hover {\n",
              "    background-color: var(--disabled-bg-color);\n",
              "    fill: var(--disabled-fill-color);\n",
              "    box-shadow: none;\n",
              "  }\n",
              "\n",
              "  .colab-df-spinner {\n",
              "    border: 2px solid var(--fill-color);\n",
              "    border-color: transparent;\n",
              "    border-bottom-color: var(--fill-color);\n",
              "    animation:\n",
              "      spin 1s steps(1) infinite;\n",
              "  }\n",
              "\n",
              "  @keyframes spin {\n",
              "    0% {\n",
              "      border-color: transparent;\n",
              "      border-bottom-color: var(--fill-color);\n",
              "      border-left-color: var(--fill-color);\n",
              "    }\n",
              "    20% {\n",
              "      border-color: transparent;\n",
              "      border-left-color: var(--fill-color);\n",
              "      border-top-color: var(--fill-color);\n",
              "    }\n",
              "    30% {\n",
              "      border-color: transparent;\n",
              "      border-left-color: var(--fill-color);\n",
              "      border-top-color: var(--fill-color);\n",
              "      border-right-color: var(--fill-color);\n",
              "    }\n",
              "    40% {\n",
              "      border-color: transparent;\n",
              "      border-right-color: var(--fill-color);\n",
              "      border-top-color: var(--fill-color);\n",
              "    }\n",
              "    60% {\n",
              "      border-color: transparent;\n",
              "      border-right-color: var(--fill-color);\n",
              "    }\n",
              "    80% {\n",
              "      border-color: transparent;\n",
              "      border-right-color: var(--fill-color);\n",
              "      border-bottom-color: var(--fill-color);\n",
              "    }\n",
              "    90% {\n",
              "      border-color: transparent;\n",
              "      border-bottom-color: var(--fill-color);\n",
              "    }\n",
              "  }\n",
              "</style>\n",
              "\n",
              "  <script>\n",
              "    async function quickchart(key) {\n",
              "      const quickchartButtonEl =\n",
              "        document.querySelector('#' + key + ' button');\n",
              "      quickchartButtonEl.disabled = true;  // To prevent multiple clicks.\n",
              "      quickchartButtonEl.classList.add('colab-df-spinner');\n",
              "      try {\n",
              "        const charts = await google.colab.kernel.invokeFunction(\n",
              "            'suggestCharts', [key], {});\n",
              "      } catch (error) {\n",
              "        console.error('Error during call to suggestCharts:', error);\n",
              "      }\n",
              "      quickchartButtonEl.classList.remove('colab-df-spinner');\n",
              "      quickchartButtonEl.classList.add('colab-df-quickchart-complete');\n",
              "    }\n",
              "    (() => {\n",
              "      let quickchartButtonEl =\n",
              "        document.querySelector('#df-a05088e1-60be-4369-80a3-f8efe86b80f3 button');\n",
              "      quickchartButtonEl.style.display =\n",
              "        google.colab.kernel.accessAllowed ? 'block' : 'none';\n",
              "    })();\n",
              "  </script>\n",
              "</div>\n",
              "    </div>\n",
              "  </div>\n"
            ]
          },
          "metadata": {},
          "execution_count": 9
        }
      ]
    },
    {
      "cell_type": "markdown",
      "source": [
        "Se exportan los datos a un directorio especifico de google drive"
      ],
      "metadata": {
        "id": "0FboA6rA9P_n"
      }
    },
    {
      "cell_type": "code",
      "source": [
        "# exportamos archivo\n",
        "# Ruta de la carpeta en Google Drive para  guardar el DataFrame\n",
        "folder_path = '/content/drive/MyDrive/out_desglosado'\n",
        "\n",
        "# Nombre del archivo CSV\n",
        "file_name = 'df_pax_julio.csv'\n",
        "\n",
        "# Ruta completa del archivo\n",
        "file_path = f'{folder_path}/{file_name}'\n",
        "\n",
        "# Guardar el DataFrame como un archivo CSV en Google Drive\n",
        "df_grouped.to_csv(file_path, index=False)\n",
        "\n",
        "# print(f'DataFrame julio guardado con éxito en {file_path}')"
      ],
      "metadata": {
        "colab": {
          "base_uri": "https://localhost:8080/"
        },
        "id": "EUOtEDqsukyI",
        "outputId": "64dbb54e-ae8a-4aa7-baef-9e9fbf8fe0ae"
      },
      "execution_count": 10,
      "outputs": [
        {
          "output_type": "stream",
          "name": "stdout",
          "text": [
            "DataFrame julio guardado con éxito en /content/drive/MyDrive/out_desglosado/df_pax_julio.csv\n"
          ]
        }
      ]
    },
    {
      "cell_type": "markdown",
      "source": [
        "Se realiza el mismo calculo para el mes de Agosto"
      ],
      "metadata": {
        "id": "65r0F7dhH_nP"
      }
    },
    {
      "cell_type": "code",
      "source": [
        "# print(pasajeros_agosto.head())\n",
        "\n",
        "# filtramos los datos para el concesionaro o empresa que se requiere el analisis\n",
        "pasajeros_agosto_b = pasajeros_agosto[pasajeros_agosto['Operador'] == '(001) CONSORCIO EXPRESS']\n",
        "\n",
        "# Pivote fecha\n",
        "df_melted = pd.melt(pasajeros_agosto_b,\n",
        "                    id_vars=[\"Operador\", \"Ruta Consolidada\", \"Intervalo\"],\n",
        "                    value_vars=pasajeros_agosto.columns[3:-1],  # Excluyendo la columna 'Total general'\n",
        "                    var_name=\"Fecha\",\n",
        "                    value_name=\"Validaciones\")\n",
        "\n",
        "# Convertir la columna de fecha a un formato datetime\n",
        "df_melted[\"Fecha\"] = pd.to_datetime(df_melted[\"Fecha\"])\n",
        "\n",
        "df_melted.head()\n",
        "\n",
        "# Convertir la columna \"Intervalo\" a tipo string\n",
        "df_melted['Intervalo'] = df_melted['Intervalo'].astype(str)\n",
        "\n",
        "# Extraer la hora y almacenarla en una nueva columna llamada \"Hora\"\n",
        "df_melted['Hora'] = df_melted['Intervalo'].str.split(\":\").str[0].astype(int)\n",
        "\n",
        "# Agrupar por las columnas especificadas y sumar la columna \"Validaciones\"\n",
        "df_grouped = df_melted.groupby(['Fecha', 'Operador', 'Ruta Consolidada', 'Hora'])['Validaciones'].sum().reset_index()\n",
        "\n",
        "# Reemplazar paréntesis en la columna \"Ruta Consolidada\" para hacer match con datos de viajes desglosados\n",
        "df_grouped['Ruta Consolidada'] = df_grouped['Ruta Consolidada'].str.replace(\"(\", \"[\").str.replace(\")\", \"]\")\n",
        "\n",
        "# Eliminar la cadena \"_CEGM\" en la columna \"Ruta Consolidada\" para hacer match con datos de viaje desglosado\n",
        "df_grouped['Ruta Consolidada'] = df_grouped['Ruta Consolidada'].str.replace(\"_CEGM\", \"\")\n",
        "\n",
        "# Los datos de la ruta '[1315] C142' son atipicos asi que se excluyen\n",
        "df_grouped_agosto = df_grouped[df_grouped['Ruta Consolidada'] != '[1315] C142']\n",
        "\n",
        "\n",
        "df_grouped.head()\n",
        "\n",
        "\n",
        "# exportamos archivo\n",
        "# Ruta de la carpeta en Google Drive para  guardar el DataFrame\n",
        "folder_path = '/content/drive/MyDrive/out_desglosado'\n",
        "\n",
        "# Nombre del archivo CSV\n",
        "file_name = 'df_pax_Agosto.csv'\n",
        "\n",
        "# Ruta completa del archivo\n",
        "file_path = f'{folder_path}/{file_name}'\n",
        "\n",
        "# Guardar el DataFrame como un archivo CSV en Google Drive\n",
        "df_grouped_agosto.to_csv(file_path, index=False)\n",
        "\n",
        "# print(f'DataFrame agosto guardado con éxito en {file_path}')"
      ],
      "metadata": {
        "colab": {
          "base_uri": "https://localhost:8080/"
        },
        "id": "eRa0KUgMFhiF",
        "outputId": "b4699694-9ccf-49f9-d1ec-84a8b9ea6ae9"
      },
      "execution_count": 11,
      "outputs": [
        {
          "output_type": "stream",
          "name": "stdout",
          "text": [
            "                  Operador Ruta Consolidada Intervalo  2023-08-01 00:00:00  \\\n",
            "0  (001) CONSORCIO EXPRESS       (1064) T13  13:00:00                274.0   \n",
            "1  (001) CONSORCIO EXPRESS       (1064) T13  13:15:00                253.0   \n",
            "2  (001) CONSORCIO EXPRESS       (1064) T13  13:30:00                248.0   \n",
            "3  (001) CONSORCIO EXPRESS       (1064) T13  13:45:00                271.0   \n",
            "4  (001) CONSORCIO EXPRESS       (1064) T13  10:00:00                221.0   \n",
            "\n",
            "   2023-08-02 00:00:00  2023-08-03 00:00:00  2023-08-04 00:00:00  \\\n",
            "0                285.0                290.0                282.0   \n",
            "1                258.0                281.0                307.0   \n",
            "2                277.0                229.0                280.0   \n",
            "3                225.0                201.0                287.0   \n",
            "4                242.0                198.0                301.0   \n",
            "\n",
            "   2023-08-05 00:00:00  2023-08-06 00:00:00  2023-08-07 00:00:00  ...  \\\n",
            "0                204.0                 70.0                 54.0  ...   \n",
            "1                217.0                 71.0                 58.0  ...   \n",
            "2                198.0                 79.0                 69.0  ...   \n",
            "3                192.0                 45.0                 61.0  ...   \n",
            "4                171.0                 50.0                 64.0  ...   \n",
            "\n",
            "   2023-08-23 00:00:00  2023-08-24 00:00:00  2023-08-25 00:00:00  \\\n",
            "0                261.0                280.0                207.0   \n",
            "1                262.0                246.0                212.0   \n",
            "2                231.0                189.0                217.0   \n",
            "3                279.0                199.0                230.0   \n",
            "4                266.0                198.0                266.0   \n",
            "\n",
            "   2023-08-26 00:00:00  2023-08-27 00:00:00  2023-08-28 00:00:00  \\\n",
            "0                254.0                 75.0                286.0   \n",
            "1                195.0                 87.0                249.0   \n",
            "2                270.0                 55.0                248.0   \n",
            "3                185.0                 85.0                238.0   \n",
            "4                179.0                 58.0                275.0   \n",
            "\n",
            "   2023-08-29 00:00:00  2023-08-30 00:00:00  2023-08-31 00:00:00  \\\n",
            "0                280.0                293.0                219.0   \n",
            "1                242.0                245.0                169.0   \n",
            "2                210.0                258.0                249.0   \n",
            "3                194.0                218.0                233.0   \n",
            "4                255.0                217.0                249.0   \n",
            "\n",
            "   Total general  \n",
            "0           7078  \n",
            "1           6340  \n",
            "2           6062  \n",
            "3           6077  \n",
            "4           5961  \n",
            "\n",
            "[5 rows x 35 columns]\n"
          ]
        },
        {
          "output_type": "stream",
          "name": "stderr",
          "text": [
            "<ipython-input-11-bf94a525bc17>:28: FutureWarning: The default value of regex will change from True to False in a future version. In addition, single character regular expressions will *not* be treated as literal strings when regex=True.\n",
            "  df_grouped['Ruta Consolidada'] = df_grouped['Ruta Consolidada'].str.replace(\"(\", \"[\").str.replace(\")\", \"]\")\n"
          ]
        },
        {
          "output_type": "stream",
          "name": "stdout",
          "text": [
            "DataFrame agosto guardado con éxito en /content/drive/MyDrive/out_desglosado/df_pax_Agosto.csv\n"
          ]
        }
      ]
    },
    {
      "cell_type": "markdown",
      "source": [
        "# Se calculan medidas de tendencia central y se hace un analisis exploratorio de los **datos**"
      ],
      "metadata": {
        "id": "RI1P4QH_N-Xn"
      }
    },
    {
      "cell_type": "code",
      "source": [
        "# 1. Importación de las bibliotecas necesarias\n",
        "import pandas as pd\n",
        "import matplotlib.pyplot as plt\n",
        "import seaborn as sns\n",
        "\n",
        "# 2. Carga del archivo CSV (Asegúrate de subir el archivo a tu entorno de Colab primero)\n",
        "df_pax_julio = df_grouped\n",
        "\n",
        "# 3. Exploración de los datos\n",
        "print(df_pax_julio.head())\n",
        "\n",
        "# 4. Medidas de tendencia central para la columna \"Validaciones\"\n",
        "mean_validaciones = df_pax_julio['Validaciones'].mean()\n",
        "median_validaciones = df_pax_julio['Validaciones'].median()\n",
        "mode_validaciones = df_pax_julio['Validaciones'].mode().iloc[0]\n",
        "print(f\"Media: {mean_validaciones}\\nMediana: {median_validaciones}\\nModa: {mode_validaciones}\")\n",
        "\n",
        "# 5. Categorización de tipos de datos\n",
        "categorical_columns = df_pax_julio.select_dtypes(include=['object']).columns\n",
        "numerical_columns = df_pax_julio.select_dtypes(exclude=['object']).columns\n",
        "print(f\"Columnas categóricas: {categorical_columns}\\nColumnas numéricas: {numerical_columns}\")\n",
        "\n",
        "# 6. Visualización de datos con gráficos\n",
        "# Distribución de Validaciones\n",
        "plt.figure(figsize=(10, 6))\n",
        "sns.histplot(df_pax_julio['Validaciones'], bins=50, kde=True)\n",
        "plt.title('Distribución de Validaciones (Pasajeros)')\n",
        "plt.xlabel('Número de Pasajeros')\n",
        "plt.ylabel('Frecuencia')\n",
        "plt.show()\n",
        "\n",
        "# Validaciones por Hora\n",
        "plt.figure(figsize=(10, 6))\n",
        "sns.boxplot(x='Hora', y='Validaciones', data=df_pax_julio)\n",
        "plt.title('Distribución de Validaciones por Hora')\n",
        "plt.xlabel('Hora')\n",
        "plt.ylabel('Número de Pasajeros')\n",
        "plt.show()\n"
      ],
      "metadata": {
        "colab": {
          "base_uri": "https://localhost:8080/",
          "height": 1000
        },
        "id": "eRWhrp1PNQk3",
        "outputId": "feda9d70-d42f-4184-8ef7-5fea04c5e70d"
      },
      "execution_count": 12,
      "outputs": [
        {
          "output_type": "stream",
          "name": "stdout",
          "text": [
            "       Fecha                 Operador Ruta Consolidada  Hora  Validaciones\n",
            "0 2023-08-01  (001) CONSORCIO EXPRESS       [1064] T13     0           5.0\n",
            "1 2023-08-01  (001) CONSORCIO EXPRESS       [1064] T13     2           0.0\n",
            "2 2023-08-01  (001) CONSORCIO EXPRESS       [1064] T13     3          35.0\n",
            "3 2023-08-01  (001) CONSORCIO EXPRESS       [1064] T13     4         480.0\n",
            "4 2023-08-01  (001) CONSORCIO EXPRESS       [1064] T13     5        1368.0\n",
            "Media: 180.59375584539256\n",
            "Mediana: 103.0\n",
            "Moda: 0.0\n",
            "Columnas categóricas: Index(['Operador', 'Ruta Consolidada'], dtype='object')\n",
            "Columnas numéricas: Index(['Fecha', 'Hora', 'Validaciones'], dtype='object')\n"
          ]
        },
        {
          "output_type": "display_data",
          "data": {
            "text/plain": [
              "<Figure size 1000x600 with 1 Axes>"
            ],
            "image/png": "[encoded data removed]"
          },
          "metadata": {}
        },
        {
          "output_type": "display_data",
          "data": {
            "text/plain": [
              "<Figure size 1000x600 with 1 Axes>"
            ],
            "image/png": "[encoded data removed]"
          },
          "metadata": {}
        }
      ]
    },
    {
      "cell_type": "code",
      "source": [
        "import pandas as pd\n",
        "from datetime import timedelta\n",
        "\n",
        "# Cargando el dataset de Julio\n",
        "df_pax_julio = df_pax_julio\n",
        "\n",
        "# Agrupando datos por día y ruta para obtener el total diario de validaciones para cada ruta\n",
        "df_agrupado_julio = df_pax_julio.groupby(['Fecha', 'Ruta Consolidada']).sum()['Validaciones'].reset_index()\n",
        "\n",
        "# Función para realizar predicciones usando media móvil\n",
        "def predict_moving_average(data, window_size, steps):\n",
        "    \"\"\"Función para realizar predicciones usando media móvil.\"\"\"\n",
        "    last_values = data[-window_size:]\n",
        "    return [last_values.mean()] * steps\n",
        "\n",
        "# Parámetros para la media móvil\n",
        "window_size = 7  # Usar la última semana de julio para la media móvil\n",
        "\n",
        "all_predictions_ma = []\n",
        "\n",
        "for route in df_agrupado_julio['Ruta Consolidada'].unique():\n",
        "    df_route = df_agrupado_julio[df_agrupado_julio['Ruta Consolidada'] == route]\n",
        "    predictions_route = predict_moving_average(df_route['Validaciones'].values, window_size, 184)\n",
        "\n",
        "    fechas_prediccion_route = [pd.to_datetime(df_route['Fecha'].iloc[-1]) + timedelta(days=i) for i in range(1, 185)]\n",
        "\n",
        "    for date, pred in zip(fechas_prediccion_route, predictions_route):\n",
        "        all_predictions_ma.append({\n",
        "            'Fecha': date,\n",
        "            'Ruta Consolidada': route,\n",
        "            'Predicciones': pred\n",
        "        })\n",
        "\n",
        "# Creando dataframe con las predicciones usando media móvil\n",
        "df_predicciones_ma = pd.DataFrame(all_predictions_ma)\n",
        "\n",
        "# Cargando el dataframe de proyección de población\n",
        "df_proyeccion = pd.read_csv('proyeccion_localidad.csv', encoding='ISO-8859-1')\n",
        "\n",
        "# Filtrando los datos de proyección para 2023 y 2024\n",
        "df_proyeccion_2023 = df_proyeccion[df_proyeccion['AÑO'] == 2023]\n",
        "df_proyeccion_2024 = df_proyeccion[df_proyeccion['AÑO'] == 2024]\n",
        "\n",
        "# Convirtiendo las columnas 'TOTAL' a numérico\n",
        "df_proyeccion_2023['TOTAL'] = df_proyeccion_2023['TOTAL'].str.replace(',', '').astype(float)\n",
        "df_proyeccion_2024['TOTAL'] = df_proyeccion_2024['TOTAL'].str.replace(',', '').astype(float)\n",
        "\n",
        "# Calculando la tasa de crecimiento\n",
        "poblacion_2023 = df_proyeccion_2023['TOTAL'].sum()\n",
        "poblacion_2024 = df_proyeccion_2024['TOTAL'].sum()\n",
        "tasa_crecimiento = poblacion_2024 / poblacion_2023\n",
        "\n",
        "# Ajustando las predicciones usando la tasa de crecimiento\n",
        "df_predicciones_ma['Predicciones Ajustadas'] = df_predicciones_ma['Predicciones'] * tasa_crecimiento\n",
        "\n",
        "# exportamos archivo\n",
        "# Ruta de la carpeta en Google Drive para  guardar el DataFrame\n",
        "folder_path = '/content/drive/MyDrive/out_desglosado'\n",
        "\n",
        "# Nombre del archivo CSV\n",
        "file_name = 'prediccion.csv'\n",
        "\n",
        "# Ruta completa del archivo\n",
        "file_path = f'{folder_path}/{file_name}'\n",
        "\n",
        "# Guardar el DataFrame como un archivo CSV en Google Drive\n",
        "df_predicciones_ma.to_csv(file_path, index=False)\n",
        "\n",
        "print(f'DataFrame prediccion guardado con éxito en {file_path}')\n"
      ],
      "metadata": {
        "id": "LNCX8e4VOjBT",
        "colab": {
          "base_uri": "https://localhost:8080/"
        },
        "outputId": "c30c0828-c2fe-4995-bca3-ace2236c264b"
      },
      "execution_count": 18,
      "outputs": [
        {
          "output_type": "stream",
          "name": "stderr",
          "text": [
            "<ipython-input-18-5f39eb841401>:8: FutureWarning: The default value of numeric_only in DataFrameGroupBy.sum is deprecated. In a future version, numeric_only will default to False. Either specify numeric_only or select only columns which should be valid for the function.\n",
            "  df_agrupado_julio = df_pax_julio.groupby(['Fecha', 'Ruta Consolidada']).sum()['Validaciones'].reset_index()\n"
          ]
        },
        {
          "output_type": "stream",
          "name": "stdout",
          "text": [
            "DataFrame prediccion guardado con éxito en /content/drive/MyDrive/out_desglosado/prediccion.csv\n"
          ]
        },
        {
          "output_type": "stream",
          "name": "stderr",
          "text": [
            "<ipython-input-18-5f39eb841401>:45: SettingWithCopyWarning: \n",
            "A value is trying to be set on a copy of a slice from a DataFrame.\n",
            "Try using .loc[row_indexer,col_indexer] = value instead\n",
            "\n",
            "See the caveats in the documentation: https://pandas.pydata.org/pandas-docs/stable/user_guide/indexing.html#returning-a-view-versus-a-copy\n",
            "  df_proyeccion_2023['TOTAL'] = df_proyeccion_2023['TOTAL'].str.replace(',', '').astype(float)\n",
            "<ipython-input-18-5f39eb841401>:46: SettingWithCopyWarning: \n",
            "A value is trying to be set on a copy of a slice from a DataFrame.\n",
            "Try using .loc[row_indexer,col_indexer] = value instead\n",
            "\n",
            "See the caveats in the documentation: https://pandas.pydata.org/pandas-docs/stable/user_guide/indexing.html#returning-a-view-versus-a-copy\n",
            "  df_proyeccion_2024['TOTAL'] = df_proyeccion_2024['TOTAL'].str.replace(',', '').astype(float)\n"
          ]
        }
      ]
    }
  ]
}